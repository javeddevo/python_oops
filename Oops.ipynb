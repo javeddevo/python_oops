{
 "cells": [
  {
   "cell_type": "code",
   "execution_count": 3,
   "metadata": {},
   "outputs": [
    {
     "name": "stdout",
     "output_type": "stream",
     "text": [
      "javeed,22,2938449\n",
      "mahesh,22,7343949834\n"
     ]
    }
   ],
   "source": [
    "class hello:\n",
    "    def details(self,name,age,no):\n",
    "        self.name=name\n",
    "        self.age=age\n",
    "        self.no=no\n",
    "    def info(self):\n",
    "        print(f\"{self.name},{self.age},{self.no}\")\n",
    "emp=hello()\n",
    "emp1=hello()\n",
    "emp.details(\"javeed\",\"22\",2938449)\n",
    "emp1.details(\"mahesh\",\"22\",7343949834)\n",
    "emp.info()\n",
    "emp1.info()\n",
    "        "
   ]
  },
  {
   "cell_type": "code",
   "execution_count": 10,
   "metadata": {},
   "outputs": [
    {
     "name": "stdout",
     "output_type": "stream",
     "text": [
      "javeed,22,2938449\n",
      "mahesh,22,7343949834\n"
     ]
    }
   ],
   "source": [
    "class hello:\n",
    "    def details(self,name,age,no):\n",
    "        self.name=name\n",
    "        self.age=age\n",
    "        self.no=no\n",
    "        self.info()\n",
    "    def info(self):\n",
    "        print(f\"{self.name},{self.age},{self.no}\")\n",
    "emp=hello()\n",
    "emp1=hello()\n",
    "emp.details(\"javeed\",\"22\",2938449)\n",
    "emp1.details(\"mahesh\",\"22\",7343949834)\n",
    "\n",
    "        "
   ]
  },
  {
   "cell_type": "code",
   "execution_count": 12,
   "metadata": {},
   "outputs": [
    {
     "name": "stdout",
     "output_type": "stream",
     "text": [
      "jjj,33\n"
     ]
    }
   ],
   "source": [
    "#constructor\n",
    "class emp:\n",
    "    def __init__(self,name,age):#constructor\n",
    "        self.name=name\n",
    "        self.age=age\n",
    "        self.info()\n",
    "    def info(self):\n",
    "        print(f\"{self.name},{self.age}\")\n",
    "e1=emp(\"jjj\",33)"
   ]
  },
  {
   "cell_type": "code",
   "execution_count": 14,
   "metadata": {},
   "outputs": [
    {
     "name": "stdout",
     "output_type": "stream",
     "text": [
      "object deleted\n"
     ]
    }
   ],
   "source": [
    "#destructor\n",
    "class emp:\n",
    "    def __init__(self,name,age):#constructor\n",
    "        self.name=name\n",
    "        self.age=age\n",
    "       # self.info()\n",
    "    def __del__(self):\n",
    "        print(\"object deleted\")\n",
    "e1=emp(\"jjj\",33)"
   ]
  },
  {
   "cell_type": "code",
   "execution_count": 27,
   "metadata": {},
   "outputs": [
    {
     "name": "stdout",
     "output_type": "stream",
     "text": [
      "javeed,33\n",
      "hello,1\n"
     ]
    }
   ],
   "source": [
    "#polymorphism\n",
    "class pol:\n",
    "    def __init__(self,name,age):\n",
    "        self.name=name\n",
    "        self.age=age\n",
    "    def desplay(self):\n",
    "        print(f\"{self.name},{self.age}\")\n",
    "        #print(self.age)\n",
    "class pol1:\n",
    "     def __init__(self,name,age):\n",
    "        self.name=name\n",
    "        self.age=age\n",
    "     def desplay(self):\n",
    "        print(f\"{self.name},{self.age}\")\n",
    "        #print(self.age   \n",
    "employ=pol(\"javeed\",33)\n",
    "employ.desplay()\n",
    "employ1=pol1(\"hello\",1)\n",
    "employ1.desplay()"
   ]
  },
  {
   "cell_type": "code",
   "execution_count": 32,
   "metadata": {},
   "outputs": [
    {
     "name": "stdout",
     "output_type": "stream",
     "text": [
      "javeed,22\n",
      "kkkf,63\n"
     ]
    }
   ],
   "source": [
    " #inheritence\n",
    "class helo(object):\n",
    "    def __init__(self,name,age):\n",
    "        self.name=name\n",
    "        self.age=age\n",
    "    def display(self):\n",
    "        print(f\"{self.name},{self.age}\")\n",
    "class poly(helo):\n",
    "    \"\"\"def __init__(self,name,age):\n",
    "        self.name=name\n",
    "        self.age=age\"\"\"\n",
    "emp=helo(\"javeed\",22)\n",
    "emp.display()\n",
    "emp1=poly(\"kkkf\",63)\n",
    "emp1.display()"
   ]
  },
  {
   "cell_type": "code",
   "execution_count": null,
   "metadata": {},
   "outputs": [],
   "source": []
  },
  {
   "cell_type": "code",
   "execution_count": null,
   "metadata": {},
   "outputs": [],
   "source": []
  }
 ],
 "metadata": {
  "kernelspec": {
   "display_name": "Python 3",
   "language": "python",
   "name": "python3"
  },
  "language_info": {
   "codemirror_mode": {
    "name": "ipython",
    "version": 3
   },
   "file_extension": ".py",
   "mimetype": "text/x-python",
   "name": "python",
   "nbconvert_exporter": "python",
   "pygments_lexer": "ipython3",
   "version": "3.8.2"
  }
 },
 "nbformat": 4,
 "nbformat_minor": 4
}
